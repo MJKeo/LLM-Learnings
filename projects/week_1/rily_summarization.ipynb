{
 "cells": [
  {
   "cell_type": "markdown",
   "id": "c63481fb",
   "metadata": {},
   "source": [
    "# RILY News Summarizer\n",
    "\n",
    "NOTE: This is not supposed to be a thorough, flawless product ready to be sold. I'm just having some fun throwing things together quickly and learning in the process"
   ]
  },
  {
   "cell_type": "markdown",
   "id": "c9fc9bbc",
   "metadata": {},
   "source": [
    "### Step 1 - Setup"
   ]
  },
  {
   "cell_type": "code",
   "execution_count": 14,
   "id": "dfb30e2e",
   "metadata": {},
   "outputs": [],
   "source": [
    "# imports\n",
    "\n",
    "import os\n",
    "import requests\n",
    "from dotenv import load_dotenv\n",
    "from bs4 import BeautifulSoup\n",
    "from IPython.display import Markdown, display\n",
    "from openai import OpenAI\n",
    "\n",
    "headers = {\n",
    " \"User-Agent\": \"Mozilla/5.0 (Windows NT 10.0; Win64; x64) AppleWebKit/537.36 (KHTML, like Gecko) Chrome/117.0.0.0 Safari/537.36\"\n",
    "}"
   ]
  },
  {
   "cell_type": "code",
   "execution_count": 7,
   "id": "7c627549",
   "metadata": {},
   "outputs": [
    {
     "name": "stdout",
     "output_type": "stream",
     "text": [
      "OpenAI API key found!\n"
     ]
    }
   ],
   "source": [
    "# Set up OpenAI API Key\n",
    "\n",
    "load_dotenv(override=True)\n",
    "api_key = os.getenv('OPENAI_API_KEY')\n",
    "\n",
    "# Sanity check\n",
    "\n",
    "if api_key:\n",
    "    print(\"OpenAI API key found!\")\n",
    "else:\n",
    "    print(\"Uh oh, we don't have an API key\")\n"
   ]
  },
  {
   "cell_type": "markdown",
   "id": "91fdb6fa",
   "metadata": {},
   "source": [
    "### Step 2 - Data Gathering (templates)"
   ]
  },
  {
   "cell_type": "code",
   "execution_count": 8,
   "id": "2b54132c",
   "metadata": {},
   "outputs": [],
   "source": [
    "# Fetch HTML from any provided url\n",
    "\n",
    "def get_website_text(url):\n",
    "    response = requests.get(url, headers=headers)\n",
    "    soup = BeautifulSoup(response.content, 'html.parser')\n",
    "    return soup.body.get_text(separator=\"\\n\", strip=True)"
   ]
  },
  {
   "cell_type": "markdown",
   "id": "aab52452",
   "metadata": {},
   "source": [
    "SEC Filings"
   ]
  },
  {
   "cell_type": "code",
   "execution_count": 9,
   "id": "1372afe1",
   "metadata": {},
   "outputs": [],
   "source": [
    "def get_sec_filings():\n",
    "    #  0) Get raw data\n",
    "    data = get_website_text(\"https://ir.brileyfin.com/sec-filings\")\n",
    "\n",
    "    # 1) Split once\n",
    "    entries = data.split(\"\\n\")\n",
    "\n",
    "    # 2) Reduce elements to only include SEC Filings\n",
    "    proxy_seen = False\n",
    "    start_idx = None\n",
    "    end_idx = None\n",
    "\n",
    "    for i, line in enumerate(entries):\n",
    "        if not proxy_seen and \"Proxy & Information Statements\" in line:\n",
    "            proxy_seen = True\n",
    "        elif proxy_seen and start_idx is None and \"Format\" in line:\n",
    "            start_idx = i\n",
    "        elif proxy_seen and \"1-25\" in line:\n",
    "            end_idx = i  # keep updating to get the last occurrence\n",
    "\n",
    "    # 3) Validate indices and slice; if invalid, return empty\n",
    "    if not start_idx or not end_idx or start_idx > end_idx:\n",
    "        return \"\"\n",
    "\n",
    "    # 4) Second (partial) pass: filter out entries starting with \"Open \"\n",
    "    filtered_entries = [line for line in entries[start_idx+1:end_idx] if not line.startswith(\"Open \")]\n",
    "\n",
    "    # Combine in readable fashion\n",
    "    result = []\n",
    "    for i in range(0, len(filtered_entries), 3):\n",
    "        form_type = filtered_entries[i]\n",
    "        form_description = filtered_entries[i + 1]\n",
    "        date_of_filing = filtered_entries[i + 2]\n",
    "        formatted = f\"Date: {date_of_filing}, Form Type: {form_type}, Description: {form_description}\"\n",
    "        result.append(formatted)\n",
    "\n",
    "    return \"\\n\".join(result)"
   ]
  },
  {
   "cell_type": "markdown",
   "id": "e57e6dfc",
   "metadata": {},
   "source": [
    "B Riley Financial News"
   ]
  },
  {
   "cell_type": "code",
   "execution_count": 10,
   "id": "58b6b4e3",
   "metadata": {},
   "outputs": [],
   "source": [
    "def get_financial_press_releases():\n",
    "    #  0) Get raw data\n",
    "    data = get_website_text(\"https://ir.brileyfin.com/press-releases\")\n",
    "\n",
    "    entries = data.split(\"\\n\")\n",
    "    start_idx = next((i for i, line in enumerate(entries) if \"Basic Search\" in line), None)\n",
    "\n",
    "    if not start_idx:\n",
    "        return \"\"\n",
    "\n",
    "    filtered_entries = entries[start_idx+1:start_idx+16]\n",
    "\n",
    "    result = []\n",
    "    for i in range(0, len(filtered_entries), 3):\n",
    "        date = filtered_entries[i]\n",
    "        title = filtered_entries[i + 1]\n",
    "        description = filtered_entries[i + 2]\n",
    "        formatted = f\"Date: {date}, Title: {title}, Description: {description}\"\n",
    "        result.append(formatted)\n",
    "\n",
    "    return \"\\n\".join(result)"
   ]
  },
  {
   "cell_type": "markdown",
   "id": "755d69e7",
   "metadata": {},
   "source": [
    "B Riley Securities News"
   ]
  },
  {
   "cell_type": "code",
   "execution_count": 11,
   "id": "aabecc01",
   "metadata": {},
   "outputs": [],
   "source": [
    "def get_securities_press_releases():\n",
    "    #  0) Get raw data\n",
    "    data = get_website_text(\"https://www.brileysecurities.com/investor-relations\")\n",
    "\n",
    "    entries = data.split(\"\\n\")\n",
    "    start_idx = next((i for i, line in enumerate(entries) if \"Latest News\" in line), None)\n",
    "\n",
    "    if not start_idx:\n",
    "        return \"\"\n",
    "\n",
    "    filtered_entries = entries[start_idx+1:start_idx+13]\n",
    "\n",
    "    result = []\n",
    "    for i in range(0, len(filtered_entries), 2):\n",
    "        title = filtered_entries[i]\n",
    "        date = filtered_entries[i + 1]\n",
    "        formatted = f\"Date: {date}, Title: {title}\"\n",
    "        result.append(formatted)\n",
    "\n",
    "    return \"\\n\".join(result)"
   ]
  },
  {
   "cell_type": "markdown",
   "id": "ed7650e2",
   "metadata": {},
   "source": [
    "### Step 3 - Fetch the Data"
   ]
  },
  {
   "cell_type": "code",
   "execution_count": 16,
   "id": "2a280f22",
   "metadata": {},
   "outputs": [
    {
     "name": "stdout",
     "output_type": "stream",
     "text": [
      "Success!\n"
     ]
    }
   ],
   "source": [
    "# Fetch all data we need\n",
    "filings_input = get_sec_filings()\n",
    "financial_input = get_financial_press_releases()\n",
    "securities_input = get_securities_press_releases()\n",
    "\n",
    "if filings_input and financial_input and securities_input:\n",
    "    print(\"Success!\")\n",
    "else:\n",
    "    if not filings_input:\n",
    "        print(\"Unable to gather SEC filings\")\n",
    "    if not financial_input:\n",
    "        print(\"Unable to gather financial news\")\n",
    "    if not securities_input:\n",
    "        print(\"Unable to gather securities news\")"
   ]
  },
  {
   "cell_type": "markdown",
   "id": "71e84f38",
   "metadata": {},
   "source": [
    "### Step 4 - Summarize and Analyze"
   ]
  },
  {
   "cell_type": "code",
   "execution_count": null,
   "id": "94bda69f",
   "metadata": {},
   "outputs": [
    {
     "data": {
      "text/markdown": [
       "### Summary of Recent B Riley Financial News (Past 14 Days)\n",
       "\n",
       "**Recent Filings:**\n",
       "1. **Form 10-K (Sep 19, 2025)**:\n",
       "   - The company filed its annual report, providing a comprehensive overview of its financial performance over the past year.\n",
       "   - **Analysis**: This filing is crucial for investors and stakeholders as it outlines B Riley's financial health, performance metrics, and strategic outlook. It may impact investor confidence and future investment decisions.\n",
       "   \n",
       "2. **Form 8-K (Sep 12, 2025)**:\n",
       "   - Reported an unscheduled material event or corporate event.\n",
       "   - **Analysis**: Details of the event were not specified in the provided data. However, such filings typically indicate significant developments that could affect the company's operations or financial condition, warranting closer scrutiny by analysts and investors.\n",
       "\n",
       "**Recent Announcements from B Riley Financial:**\n",
       "1. **BDO USA for 2025 Audit (Sep 9, 2025)**:\n",
       "   - The company announced the appointment of BDO USA, P.C. as its independent auditor for the 2025 fiscal year.\n",
       "   - **Analysis**: Engaging a reputable firm for auditing may enhance the credibility of financial disclosures and improve investor trust. This is particularly important given the recent financial challenges the company has faced.\n",
       "\n",
       "2. **Notification of Delinquency with Nasdaq (Aug 22, 2025)**:\n",
       "   - The company received a delinquency notification letter from Nasdaq, indicating compliance issues regarding listing standards.\n",
       "   - **Analysis**: This notification could pose risks to the company's listing status, which could adversely affect its market reputation and stock performance. It is critical for B Riley to quickly resolve these compliance issues.\n",
       "\n",
       "3. **Preliminary Q4 and Full Year 2024 Results (Aug 13, 2025)**:\n",
       "   - The company shared early results, projecting net income between $125 million and $145 million for the first half of 2025.\n",
       "   - **Analysis**: Providing such guidance suggests confidence in financial recovery. However, actual performance will need to align with these estimates to maintain investor support.\n",
       "\n",
       "**Recent Announcements from B Riley Securities:**\n",
       "1. **Lead Bookrunner for OTG Acquisition Corp. IPO ($230 Million, Sep 17, 2025)**:\n",
       "   - B Riley Securities served as lead bookrunner for a significant IPO.\n",
       "   - **Analysis**: This role demonstrates B Riley Securities' strong position in the investment banking sector, potentially leading to increased revenues and enhancing the firm's market presence.\n",
       "\n",
       "2. **Financial Advisor to Smile Design Dentistry (Sep 9, 2025)**:\n",
       "   - Acted as lead financial advisor in a strategic transaction with Heartland Dental.\n",
       "   - **Analysis**: This advisory role may bolster revenue streams and showcase the firm’s capabilities in closing important transactions, thereby contributing to its overall reputation.\n",
       "\n",
       "3. **BDC & CLO Investor Conference (Aug 27, 2025)**:\n",
       "   - B Riley Securities announced a conference scheduled for October, focusing on business development companies and collateralized loan obligations.\n",
       "   - **Analysis**: Hosting an investor conference reflects proactive engagement with the investment community, which could enhance relationships with current and future clients.\n",
       "\n",
       "Overall, B Riley Financial's recent activities indicate a mix of strategic appointments and necessary compliance issues. While there are proactive efforts to bolster investor confidence, management must address Nasdaq compliance concerns to safeguard its financial standing and reputation in capital markets."
      ],
      "text/plain": [
       "<IPython.core.display.Markdown object>"
      ]
     },
     "metadata": {},
     "output_type": "display_data"
    }
   ],
   "source": [
    "from datetime import date\n",
    "\n",
    "NUM_DAYS_FOR_SUMMARY = 14\n",
    "\n",
    "today = date.today()\n",
    "\n",
    "# Step 1: Create your prompts\n",
    "\n",
    "system_prompt = f\"\"\"You are an expert financial researcher. You are researching B Riley Financial, described as \\\n",
    "\\\"a diversified financial services company that provides investment banking, wealth management, and financial consulting services to corporations, financial sponsors, and high-net-worth individuals\\\". \\\n",
    "It is the parent company to B Riley Securities, which provides a range of investment banking services, including M&A advisory, IPOs, institutional private placements, and corporate restructuring.\n",
    "\n",
    "You will, be given 3 sources of information:\n",
    "1. The company's SEC filings\n",
    "2. B Riley Financial's most recent announcements\n",
    "3. B Riley securities' most recent announcements\n",
    "\n",
    "Generate a summary of the news from the past {NUM_DAYS_FOR_SUMMARY} days. What announcements have been made? Has the company made any new filings? What might these announcements mean for the well-being of the company?\n",
    "\n",
    "Output Format:\n",
    "\\\"\n",
    "### Summary of Recent B Riley Financial News (Past <x> Days)\n",
    "\n",
    "**Recent Filings:**\n",
    "1. **<form_type> (<date_filed>)**:\n",
    "- <description of event>\n",
    "- <analysis>\n",
    "...\n",
    "\n",
    "**Recent Announcements from B Riley Financial:**\n",
    "1. **<event_name> (<date>)**:\n",
    "- <description of event>\n",
    "- <analysis>\n",
    "...\n",
    "\n",
    "**Recent Announcements from B Riley Securities:**\n",
    "1. **<event_name> (<date>)**:\n",
    "- <description of event>\n",
    "- <analysis>\n",
    "...\n",
    "\\\"\n",
    "\n",
    "Guidelines:\n",
    "- Use spartan tone\n",
    "- Be concise and objective\n",
    "- Give an analysis of each piece of news individually\n",
    "- ONLY INCLUDE EVENTS THAT OCCURRED WITHIN THE PAST {NUM_DAYS_FOR_SUMMARY} DAYS (today is {f\"{today.strftime('%B')} {today.day}, {today.year}\"})\n",
    "\"\"\"\n",
    "\n",
    "user_prompt = f\"\"\"\n",
    "Most recent company filings:\n",
    "{filings_input}\n",
    "\n",
    "Recent B Riley Financial News:\n",
    "{financial_input}\n",
    "\n",
    "Recent B Riley Securities News:\n",
    "{securities_input}\n",
    "\"\"\"\n",
    "\n",
    "# Step 2: Make the messages list\n",
    "\n",
    "messages = [\n",
    "    {\"role\": \"system\", \"content\": system_prompt},\n",
    "    {\"role\": \"user\", \"content\": user_prompt}\n",
    "]\n",
    "\n",
    "# Step 3: Call OpenAI\n",
    "\n",
    "openai = OpenAI()\n",
    "response = openai.chat.completions.create(\n",
    "    model = \"gpt-4o-mini\",\n",
    "    messages = messages\n",
    ")\n",
    "\n",
    "# Step 4: print the result\n",
    "\n",
    "display(Markdown(response.choices[0].message.content))"
   ]
  }
 ],
 "metadata": {
  "kernelspec": {
   "display_name": "llm-learnings",
   "language": "python",
   "name": "python3"
  },
  "language_info": {
   "codemirror_mode": {
    "name": "ipython",
    "version": 3
   },
   "file_extension": ".py",
   "mimetype": "text/x-python",
   "name": "python",
   "nbconvert_exporter": "python",
   "pygments_lexer": "ipython3",
   "version": "3.11.13"
  }
 },
 "nbformat": 4,
 "nbformat_minor": 5
}
